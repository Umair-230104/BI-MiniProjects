{
 "cells": [
  {
   "cell_type": "code",
   "execution_count": null,
   "id": "0e683b92",
   "metadata": {},
   "outputs": [
    {
     "name": "stderr",
     "output_type": "stream",
     "text": [
      "'ollama' is not recognized as an internal or external command,\n",
      "operable program or batch file.\n"
     ]
    }
   ],
   "source": [
    "# !ollama pull llama3.2-vision:11b"
   ]
  },
  {
   "cell_type": "code",
   "execution_count": null,
   "id": "40fe7fe1",
   "metadata": {},
   "outputs": [
    {
     "name": "stdout",
     "output_type": "stream",
     "text": [
      "Collecting ollama\n",
      "  Downloading ollama-0.4.7-py3-none-any.whl.metadata (4.7 kB)\n",
      "Requirement already satisfied: httpx<0.29,>=0.27 in c:\\users\\pejan\\anaconda3\\lib\\site-packages (from ollama) (0.27.0)\n",
      "Collecting pydantic<3.0.0,>=2.9.0 (from ollama)\n",
      "  Downloading pydantic-2.11.3-py3-none-any.whl.metadata (65 kB)\n",
      "Requirement already satisfied: anyio in c:\\users\\pejan\\anaconda3\\lib\\site-packages (from httpx<0.29,>=0.27->ollama) (4.2.0)\n",
      "Requirement already satisfied: certifi in c:\\users\\pejan\\anaconda3\\lib\\site-packages (from httpx<0.29,>=0.27->ollama) (2025.1.31)\n",
      "Requirement already satisfied: httpcore==1.* in c:\\users\\pejan\\anaconda3\\lib\\site-packages (from httpx<0.29,>=0.27->ollama) (1.0.2)\n",
      "Requirement already satisfied: idna in c:\\users\\pejan\\anaconda3\\lib\\site-packages (from httpx<0.29,>=0.27->ollama) (3.7)\n",
      "Requirement already satisfied: sniffio in c:\\users\\pejan\\anaconda3\\lib\\site-packages (from httpx<0.29,>=0.27->ollama) (1.3.0)\n",
      "Requirement already satisfied: h11<0.15,>=0.13 in c:\\users\\pejan\\anaconda3\\lib\\site-packages (from httpcore==1.*->httpx<0.29,>=0.27->ollama) (0.14.0)\n",
      "Requirement already satisfied: annotated-types>=0.6.0 in c:\\users\\pejan\\anaconda3\\lib\\site-packages (from pydantic<3.0.0,>=2.9.0->ollama) (0.6.0)\n",
      "Collecting pydantic-core==2.33.1 (from pydantic<3.0.0,>=2.9.0->ollama)\n",
      "  Downloading pydantic_core-2.33.1-cp312-cp312-win_amd64.whl.metadata (6.9 kB)\n",
      "Collecting typing-extensions>=4.12.2 (from pydantic<3.0.0,>=2.9.0->ollama)\n",
      "  Downloading typing_extensions-4.13.2-py3-none-any.whl.metadata (3.0 kB)\n",
      "Collecting typing-inspection>=0.4.0 (from pydantic<3.0.0,>=2.9.0->ollama)\n",
      "  Downloading typing_inspection-0.4.0-py3-none-any.whl.metadata (2.6 kB)\n",
      "Downloading ollama-0.4.7-py3-none-any.whl (13 kB)\n",
      "Downloading pydantic-2.11.3-py3-none-any.whl (443 kB)\n",
      "Downloading pydantic_core-2.33.1-cp312-cp312-win_amd64.whl (2.0 MB)\n",
      "   ---------------------------------------- 0.0/2.0 MB ? eta -:--:--\n",
      "   ---------------------------------------- 2.0/2.0 MB 54.7 MB/s eta 0:00:00\n",
      "Downloading typing_extensions-4.13.2-py3-none-any.whl (45 kB)\n",
      "Downloading typing_inspection-0.4.0-py3-none-any.whl (14 kB)\n",
      "Installing collected packages: typing-extensions, typing-inspection, pydantic-core, pydantic, ollama\n",
      "  Attempting uninstall: typing-extensions\n",
      "    Found existing installation: typing_extensions 4.11.0\n",
      "    Uninstalling typing_extensions-4.11.0:\n",
      "      Successfully uninstalled typing_extensions-4.11.0\n",
      "  Attempting uninstall: pydantic-core\n",
      "    Found existing installation: pydantic_core 2.20.1\n",
      "    Uninstalling pydantic_core-2.20.1:\n",
      "      Successfully uninstalled pydantic_core-2.20.1\n",
      "  Attempting uninstall: pydantic\n",
      "    Found existing installation: pydantic 2.8.2\n",
      "    Uninstalling pydantic-2.8.2:\n",
      "      Successfully uninstalled pydantic-2.8.2\n",
      "Successfully installed ollama-0.4.7 pydantic-2.11.3 pydantic-core-2.33.1 typing-extensions-4.13.2 typing-inspection-0.4.0\n"
     ]
    }
   ],
   "source": [
    "# !pip install ollama-ocr"
   ]
  },
  {
   "cell_type": "code",
   "execution_count": 57,
   "id": "8cb68851",
   "metadata": {},
   "outputs": [],
   "source": [
    "import ollama\n",
    "from ollama import chat\n",
    "from ollama_ocr import OCRProcessor"
   ]
  },
  {
   "cell_type": "code",
   "execution_count": 58,
   "id": "59c43cdf",
   "metadata": {},
   "outputs": [],
   "source": [
    "import os"
   ]
  },
  {
   "cell_type": "code",
   "execution_count": 59,
   "id": "9a00348b",
   "metadata": {},
   "outputs": [],
   "source": [
    "# for visualisation\n",
    "from IPython.display import Image, display, Markdown"
   ]
  },
  {
   "cell_type": "code",
   "execution_count": 127,
   "id": "15bd3c32",
   "metadata": {},
   "outputs": [],
   "source": [
    "llm = 'llama3.2-vision'"
   ]
  },
  {
   "cell_type": "code",
   "execution_count": 130,
   "id": "4b88861c",
   "metadata": {},
   "outputs": [],
   "source": [
    "file1 = 'Data/Image/britain_population.jpeg'"
   ]
  },
  {
   "cell_type": "code",
   "execution_count": 87,
   "id": "567ac47f",
   "metadata": {},
   "outputs": [],
   "source": [
    "def explain(path):\n",
    "    response = ollama.chat(\n",
    "        model=llm, \n",
    "        messages=[{\n",
    "            'role': 'user',\n",
    "            'content': 'Can you explain what is on this image?',\n",
    "            'images': [path]\n",
    "        }]\n",
    "    )\n",
    "    return response['message']['content']"
   ]
  },
  {
   "cell_type": "code",
   "execution_count": 89,
   "id": "05e08c0e",
   "metadata": {},
   "outputs": [
    {
     "name": "stdout",
     "output_type": "stream",
     "text": [
      " The image shows two maps that depict population data for the UK. On both maps, the United Kingdom is divided into regions, each color representing a different region or country within the UK.\n",
      "\n",
      "The top map (marked as \"2019\") has a legend to the left, indicating the number of inhabitants in each region. The numbers are represented by colored squares with the respective population figures written on them. It seems that this map is showing the distribution of the population according to how many people live in each area.\n",
      "\n",
      "The bottom map (marked as \"2021\") appears to be similar, but it is labeled with different regions or countries, suggesting it represents a different year's population data. The color scheme and the numbers on the colored squares are not provided in this image.\n",
      "\n",
      "Both maps use a color-coded system to represent different levels of population density, which can help individuals understand how populated each area is at the time the map was created (either 2019 or 2021). \n"
     ]
    }
   ],
   "source": [
    "result = explain(file1)\n",
    "print(result)"
   ]
  },
  {
   "cell_type": "code",
   "execution_count": 123,
   "id": "944961fe",
   "metadata": {},
   "outputs": [],
   "source": [
    "# Create an instance\n",
    "ocr = OCRProcessor(model_name=llm)"
   ]
  },
  {
   "cell_type": "code",
   "execution_count": 124,
   "id": "d2094e44",
   "metadata": {},
   "outputs": [],
   "source": [
    "def explain(image_path):\n",
    "    response = ollama.chat(\n",
    "        model='llava',\n",
    "        messages=[{\n",
    "            'role': 'user',\n",
    "            'content': (\n",
    "                'this is image is of the population of the british isles in the years 1821 and 2019'\n",
    "                'left side is for year 1821 and the right is for 2019'\n",
    "                'under each country name is a number describing what the population of the country is'\n",
    "                'extract the data and display it in a table.'\n",
    "            ),\n",
    "            'images': [image_path]\n",
    "        }]\n",
    "    )\n",
    "    return response['message']['content']\n"
   ]
  },
  {
   "cell_type": "code",
   "execution_count": 132,
   "id": "262be157",
   "metadata": {},
   "outputs": [
    {
     "ename": "FileNotFoundError",
     "evalue": "[Errno 2] No such file or directory: 'Data/Image/britain_population.jpeg'",
     "output_type": "error",
     "traceback": [
      "\u001b[1;31m---------------------------------------------------------------------------\u001b[0m",
      "\u001b[1;31mFileNotFoundError\u001b[0m                         Traceback (most recent call last)",
      "Cell \u001b[1;32mIn[132], line 2\u001b[0m\n\u001b[0;32m      1\u001b[0m \u001b[38;5;66;03m# Display the image\u001b[39;00m\n\u001b[1;32m----> 2\u001b[0m display(Image(filename\u001b[38;5;241m=\u001b[39mfile1, width\u001b[38;5;241m=\u001b[39m\u001b[38;5;241m400\u001b[39m))\n",
      "File \u001b[1;32mc:\\Users\\pejan\\anaconda3\\Lib\\site-packages\\IPython\\core\\display.py:970\u001b[0m, in \u001b[0;36mImage.__init__\u001b[1;34m(self, data, url, filename, format, embed, width, height, retina, unconfined, metadata, alt)\u001b[0m\n\u001b[0;32m    968\u001b[0m \u001b[38;5;28mself\u001b[39m\u001b[38;5;241m.\u001b[39munconfined \u001b[38;5;241m=\u001b[39m unconfined\n\u001b[0;32m    969\u001b[0m \u001b[38;5;28mself\u001b[39m\u001b[38;5;241m.\u001b[39malt \u001b[38;5;241m=\u001b[39m alt\n\u001b[1;32m--> 970\u001b[0m \u001b[38;5;28msuper\u001b[39m(Image, \u001b[38;5;28mself\u001b[39m)\u001b[38;5;241m.\u001b[39m\u001b[38;5;21m__init__\u001b[39m(data\u001b[38;5;241m=\u001b[39mdata, url\u001b[38;5;241m=\u001b[39murl, filename\u001b[38;5;241m=\u001b[39mfilename,\n\u001b[0;32m    971\u001b[0m         metadata\u001b[38;5;241m=\u001b[39mmetadata)\n\u001b[0;32m    973\u001b[0m \u001b[38;5;28;01mif\u001b[39;00m \u001b[38;5;28mself\u001b[39m\u001b[38;5;241m.\u001b[39mwidth \u001b[38;5;129;01mis\u001b[39;00m \u001b[38;5;28;01mNone\u001b[39;00m \u001b[38;5;129;01mand\u001b[39;00m \u001b[38;5;28mself\u001b[39m\u001b[38;5;241m.\u001b[39mmetadata\u001b[38;5;241m.\u001b[39mget(\u001b[38;5;124m'\u001b[39m\u001b[38;5;124mwidth\u001b[39m\u001b[38;5;124m'\u001b[39m, {}):\n\u001b[0;32m    974\u001b[0m     \u001b[38;5;28mself\u001b[39m\u001b[38;5;241m.\u001b[39mwidth \u001b[38;5;241m=\u001b[39m metadata[\u001b[38;5;124m'\u001b[39m\u001b[38;5;124mwidth\u001b[39m\u001b[38;5;124m'\u001b[39m]\n",
      "File \u001b[1;32mc:\\Users\\pejan\\anaconda3\\Lib\\site-packages\\IPython\\core\\display.py:327\u001b[0m, in \u001b[0;36mDisplayObject.__init__\u001b[1;34m(self, data, url, filename, metadata)\u001b[0m\n\u001b[0;32m    324\u001b[0m \u001b[38;5;28;01melif\u001b[39;00m \u001b[38;5;28mself\u001b[39m\u001b[38;5;241m.\u001b[39mmetadata \u001b[38;5;129;01mis\u001b[39;00m \u001b[38;5;28;01mNone\u001b[39;00m:\n\u001b[0;32m    325\u001b[0m     \u001b[38;5;28mself\u001b[39m\u001b[38;5;241m.\u001b[39mmetadata \u001b[38;5;241m=\u001b[39m {}\n\u001b[1;32m--> 327\u001b[0m \u001b[38;5;28mself\u001b[39m\u001b[38;5;241m.\u001b[39mreload()\n\u001b[0;32m    328\u001b[0m \u001b[38;5;28mself\u001b[39m\u001b[38;5;241m.\u001b[39m_check_data()\n",
      "File \u001b[1;32mc:\\Users\\pejan\\anaconda3\\Lib\\site-packages\\IPython\\core\\display.py:1005\u001b[0m, in \u001b[0;36mImage.reload\u001b[1;34m(self)\u001b[0m\n\u001b[0;32m   1003\u001b[0m \u001b[38;5;250m\u001b[39m\u001b[38;5;124;03m\"\"\"Reload the raw data from file or URL.\"\"\"\u001b[39;00m\n\u001b[0;32m   1004\u001b[0m \u001b[38;5;28;01mif\u001b[39;00m \u001b[38;5;28mself\u001b[39m\u001b[38;5;241m.\u001b[39membed:\n\u001b[1;32m-> 1005\u001b[0m     \u001b[38;5;28msuper\u001b[39m(Image,\u001b[38;5;28mself\u001b[39m)\u001b[38;5;241m.\u001b[39mreload()\n\u001b[0;32m   1006\u001b[0m     \u001b[38;5;28;01mif\u001b[39;00m \u001b[38;5;28mself\u001b[39m\u001b[38;5;241m.\u001b[39mretina:\n\u001b[0;32m   1007\u001b[0m         \u001b[38;5;28mself\u001b[39m\u001b[38;5;241m.\u001b[39m_retina_shape()\n",
      "File \u001b[1;32mc:\\Users\\pejan\\anaconda3\\Lib\\site-packages\\IPython\\core\\display.py:353\u001b[0m, in \u001b[0;36mDisplayObject.reload\u001b[1;34m(self)\u001b[0m\n\u001b[0;32m    351\u001b[0m \u001b[38;5;28;01mif\u001b[39;00m \u001b[38;5;28mself\u001b[39m\u001b[38;5;241m.\u001b[39mfilename \u001b[38;5;129;01mis\u001b[39;00m \u001b[38;5;129;01mnot\u001b[39;00m \u001b[38;5;28;01mNone\u001b[39;00m:\n\u001b[0;32m    352\u001b[0m     encoding \u001b[38;5;241m=\u001b[39m \u001b[38;5;28;01mNone\u001b[39;00m \u001b[38;5;28;01mif\u001b[39;00m \u001b[38;5;124m\"\u001b[39m\u001b[38;5;124mb\u001b[39m\u001b[38;5;124m\"\u001b[39m \u001b[38;5;129;01min\u001b[39;00m \u001b[38;5;28mself\u001b[39m\u001b[38;5;241m.\u001b[39m_read_flags \u001b[38;5;28;01melse\u001b[39;00m \u001b[38;5;124m\"\u001b[39m\u001b[38;5;124mutf-8\u001b[39m\u001b[38;5;124m\"\u001b[39m\n\u001b[1;32m--> 353\u001b[0m     \u001b[38;5;28;01mwith\u001b[39;00m \u001b[38;5;28mopen\u001b[39m(\u001b[38;5;28mself\u001b[39m\u001b[38;5;241m.\u001b[39mfilename, \u001b[38;5;28mself\u001b[39m\u001b[38;5;241m.\u001b[39m_read_flags, encoding\u001b[38;5;241m=\u001b[39mencoding) \u001b[38;5;28;01mas\u001b[39;00m f:\n\u001b[0;32m    354\u001b[0m         \u001b[38;5;28mself\u001b[39m\u001b[38;5;241m.\u001b[39mdata \u001b[38;5;241m=\u001b[39m f\u001b[38;5;241m.\u001b[39mread()\n\u001b[0;32m    355\u001b[0m \u001b[38;5;28;01melif\u001b[39;00m \u001b[38;5;28mself\u001b[39m\u001b[38;5;241m.\u001b[39murl \u001b[38;5;129;01mis\u001b[39;00m \u001b[38;5;129;01mnot\u001b[39;00m \u001b[38;5;28;01mNone\u001b[39;00m:\n\u001b[0;32m    356\u001b[0m     \u001b[38;5;66;03m# Deferred import\u001b[39;00m\n",
      "\u001b[1;31mFileNotFoundError\u001b[0m: [Errno 2] No such file or directory: 'Data/Image/britain_population.jpeg'"
     ]
    }
   ],
   "source": [
    "# Display the image\n",
    "display(Image(filename=file1, width=400))"
   ]
  },
  {
   "cell_type": "code",
   "execution_count": 131,
   "id": "048646eb",
   "metadata": {},
   "outputs": [
    {
     "ename": "PydanticSerializationError",
     "evalue": "Error calling function `serialize_model`: ValueError: File Data/Image/britain_population.jpeg does not exist",
     "output_type": "error",
     "traceback": [
      "\u001b[1;31m---------------------------------------------------------------------------\u001b[0m",
      "\u001b[1;31mPydanticSerializationError\u001b[0m                Traceback (most recent call last)",
      "Cell \u001b[1;32mIn[131], line 1\u001b[0m\n\u001b[1;32m----> 1\u001b[0m response \u001b[38;5;241m=\u001b[39m explain(file1)\n\u001b[0;32m      2\u001b[0m response\n",
      "Cell \u001b[1;32mIn[124], line 2\u001b[0m, in \u001b[0;36mexplain\u001b[1;34m(image_path)\u001b[0m\n\u001b[0;32m      1\u001b[0m \u001b[38;5;28;01mdef\u001b[39;00m \u001b[38;5;21mexplain\u001b[39m(image_path):\n\u001b[1;32m----> 2\u001b[0m     response \u001b[38;5;241m=\u001b[39m ollama\u001b[38;5;241m.\u001b[39mchat(\n\u001b[0;32m      3\u001b[0m         model\u001b[38;5;241m=\u001b[39m\u001b[38;5;124m'\u001b[39m\u001b[38;5;124mllava\u001b[39m\u001b[38;5;124m'\u001b[39m,\n\u001b[0;32m      4\u001b[0m         messages\u001b[38;5;241m=\u001b[39m[{\n\u001b[0;32m      5\u001b[0m             \u001b[38;5;124m'\u001b[39m\u001b[38;5;124mrole\u001b[39m\u001b[38;5;124m'\u001b[39m: \u001b[38;5;124m'\u001b[39m\u001b[38;5;124muser\u001b[39m\u001b[38;5;124m'\u001b[39m,\n\u001b[0;32m      6\u001b[0m             \u001b[38;5;124m'\u001b[39m\u001b[38;5;124mcontent\u001b[39m\u001b[38;5;124m'\u001b[39m: (\n\u001b[0;32m      7\u001b[0m                 \u001b[38;5;124m'\u001b[39m\u001b[38;5;124mthis is image is of the population of the british isles in the years 1821 and 2019\u001b[39m\u001b[38;5;124m'\u001b[39m\n\u001b[0;32m      8\u001b[0m                 \u001b[38;5;124m'\u001b[39m\u001b[38;5;124mleft side is for year 1821 and the right is for 2019\u001b[39m\u001b[38;5;124m'\u001b[39m\n\u001b[0;32m      9\u001b[0m                 \u001b[38;5;124m'\u001b[39m\u001b[38;5;124munder each country name is a number describing what the population of the country is\u001b[39m\u001b[38;5;124m'\u001b[39m\n\u001b[0;32m     10\u001b[0m                 \u001b[38;5;124m'\u001b[39m\u001b[38;5;124mextract the data and display it in a table.\u001b[39m\u001b[38;5;124m'\u001b[39m\n\u001b[0;32m     11\u001b[0m             ),\n\u001b[0;32m     12\u001b[0m             \u001b[38;5;124m'\u001b[39m\u001b[38;5;124mimages\u001b[39m\u001b[38;5;124m'\u001b[39m: [image_path]\n\u001b[0;32m     13\u001b[0m         }]\n\u001b[0;32m     14\u001b[0m     )\n\u001b[0;32m     15\u001b[0m     \u001b[38;5;28;01mreturn\u001b[39;00m response[\u001b[38;5;124m'\u001b[39m\u001b[38;5;124mmessage\u001b[39m\u001b[38;5;124m'\u001b[39m][\u001b[38;5;124m'\u001b[39m\u001b[38;5;124mcontent\u001b[39m\u001b[38;5;124m'\u001b[39m]\n",
      "File \u001b[1;32mc:\\Users\\pejan\\anaconda3\\Lib\\site-packages\\ollama\\_client.py:345\u001b[0m, in \u001b[0;36mClient.chat\u001b[1;34m(self, model, messages, tools, stream, format, options, keep_alive)\u001b[0m\n\u001b[0;32m    289\u001b[0m \u001b[38;5;28;01mdef\u001b[39;00m \u001b[38;5;21mchat\u001b[39m(\n\u001b[0;32m    290\u001b[0m   \u001b[38;5;28mself\u001b[39m,\n\u001b[0;32m    291\u001b[0m   model: \u001b[38;5;28mstr\u001b[39m \u001b[38;5;241m=\u001b[39m \u001b[38;5;124m'\u001b[39m\u001b[38;5;124m'\u001b[39m,\n\u001b[1;32m   (...)\u001b[0m\n\u001b[0;32m    298\u001b[0m   keep_alive: Optional[Union[\u001b[38;5;28mfloat\u001b[39m, \u001b[38;5;28mstr\u001b[39m]] \u001b[38;5;241m=\u001b[39m \u001b[38;5;28;01mNone\u001b[39;00m,\n\u001b[0;32m    299\u001b[0m ) \u001b[38;5;241m-\u001b[39m\u001b[38;5;241m>\u001b[39m Union[ChatResponse, Iterator[ChatResponse]]:\n\u001b[0;32m    300\u001b[0m \u001b[38;5;250m  \u001b[39m\u001b[38;5;124;03m\"\"\"\u001b[39;00m\n\u001b[0;32m    301\u001b[0m \u001b[38;5;124;03m  Create a chat response using the requested model.\u001b[39;00m\n\u001b[0;32m    302\u001b[0m \n\u001b[1;32m   (...)\u001b[0m\n\u001b[0;32m    331\u001b[0m \u001b[38;5;124;03m  Returns `ChatResponse` if `stream` is `False`, otherwise returns a `ChatResponse` generator.\u001b[39;00m\n\u001b[0;32m    332\u001b[0m \u001b[38;5;124;03m  \"\"\"\u001b[39;00m\n\u001b[0;32m    333\u001b[0m   \u001b[38;5;28;01mreturn\u001b[39;00m \u001b[38;5;28mself\u001b[39m\u001b[38;5;241m.\u001b[39m_request(\n\u001b[0;32m    334\u001b[0m     ChatResponse,\n\u001b[0;32m    335\u001b[0m     \u001b[38;5;124m'\u001b[39m\u001b[38;5;124mPOST\u001b[39m\u001b[38;5;124m'\u001b[39m,\n\u001b[0;32m    336\u001b[0m     \u001b[38;5;124m'\u001b[39m\u001b[38;5;124m/api/chat\u001b[39m\u001b[38;5;124m'\u001b[39m,\n\u001b[0;32m    337\u001b[0m     json\u001b[38;5;241m=\u001b[39mChatRequest(\n\u001b[0;32m    338\u001b[0m       model\u001b[38;5;241m=\u001b[39mmodel,\n\u001b[0;32m    339\u001b[0m       messages\u001b[38;5;241m=\u001b[39m[message \u001b[38;5;28;01mfor\u001b[39;00m message \u001b[38;5;129;01min\u001b[39;00m _copy_messages(messages)],\n\u001b[0;32m    340\u001b[0m       tools\u001b[38;5;241m=\u001b[39m[tool \u001b[38;5;28;01mfor\u001b[39;00m tool \u001b[38;5;129;01min\u001b[39;00m _copy_tools(tools)],\n\u001b[0;32m    341\u001b[0m       stream\u001b[38;5;241m=\u001b[39mstream,\n\u001b[0;32m    342\u001b[0m       \u001b[38;5;28mformat\u001b[39m\u001b[38;5;241m=\u001b[39m\u001b[38;5;28mformat\u001b[39m,\n\u001b[0;32m    343\u001b[0m       options\u001b[38;5;241m=\u001b[39moptions,\n\u001b[0;32m    344\u001b[0m       keep_alive\u001b[38;5;241m=\u001b[39mkeep_alive,\n\u001b[1;32m--> 345\u001b[0m     )\u001b[38;5;241m.\u001b[39mmodel_dump(exclude_none\u001b[38;5;241m=\u001b[39m\u001b[38;5;28;01mTrue\u001b[39;00m),\n\u001b[0;32m    346\u001b[0m     stream\u001b[38;5;241m=\u001b[39mstream,\n\u001b[0;32m    347\u001b[0m   )\n",
      "File \u001b[1;32mc:\\Users\\pejan\\anaconda3\\Lib\\site-packages\\pydantic\\main.py:463\u001b[0m, in \u001b[0;36mBaseModel.model_dump\u001b[1;34m(self, mode, include, exclude, context, by_alias, exclude_unset, exclude_defaults, exclude_none, round_trip, warnings, fallback, serialize_as_any)\u001b[0m\n\u001b[0;32m    421\u001b[0m \u001b[38;5;28;01mdef\u001b[39;00m \u001b[38;5;21mmodel_dump\u001b[39m(\n\u001b[0;32m    422\u001b[0m     \u001b[38;5;28mself\u001b[39m,\n\u001b[0;32m    423\u001b[0m     \u001b[38;5;241m*\u001b[39m,\n\u001b[1;32m   (...)\u001b[0m\n\u001b[0;32m    435\u001b[0m     serialize_as_any: \u001b[38;5;28mbool\u001b[39m \u001b[38;5;241m=\u001b[39m \u001b[38;5;28;01mFalse\u001b[39;00m,\n\u001b[0;32m    436\u001b[0m ) \u001b[38;5;241m-\u001b[39m\u001b[38;5;241m>\u001b[39m \u001b[38;5;28mdict\u001b[39m[\u001b[38;5;28mstr\u001b[39m, Any]:\n\u001b[0;32m    437\u001b[0m \u001b[38;5;250m    \u001b[39m\u001b[38;5;124;03m\"\"\"!!! abstract \"Usage Documentation\"\u001b[39;00m\n\u001b[0;32m    438\u001b[0m \u001b[38;5;124;03m        [`model_dump`](../concepts/serialization.md#modelmodel_dump)\u001b[39;00m\n\u001b[0;32m    439\u001b[0m \n\u001b[1;32m   (...)\u001b[0m\n\u001b[0;32m    461\u001b[0m \u001b[38;5;124;03m        A dictionary representation of the model.\u001b[39;00m\n\u001b[0;32m    462\u001b[0m \u001b[38;5;124;03m    \"\"\"\u001b[39;00m\n\u001b[1;32m--> 463\u001b[0m     \u001b[38;5;28;01mreturn\u001b[39;00m \u001b[38;5;28mself\u001b[39m\u001b[38;5;241m.\u001b[39m__pydantic_serializer__\u001b[38;5;241m.\u001b[39mto_python(\n\u001b[0;32m    464\u001b[0m         \u001b[38;5;28mself\u001b[39m,\n\u001b[0;32m    465\u001b[0m         mode\u001b[38;5;241m=\u001b[39mmode,\n\u001b[0;32m    466\u001b[0m         by_alias\u001b[38;5;241m=\u001b[39mby_alias,\n\u001b[0;32m    467\u001b[0m         include\u001b[38;5;241m=\u001b[39minclude,\n\u001b[0;32m    468\u001b[0m         exclude\u001b[38;5;241m=\u001b[39mexclude,\n\u001b[0;32m    469\u001b[0m         context\u001b[38;5;241m=\u001b[39mcontext,\n\u001b[0;32m    470\u001b[0m         exclude_unset\u001b[38;5;241m=\u001b[39mexclude_unset,\n\u001b[0;32m    471\u001b[0m         exclude_defaults\u001b[38;5;241m=\u001b[39mexclude_defaults,\n\u001b[0;32m    472\u001b[0m         exclude_none\u001b[38;5;241m=\u001b[39mexclude_none,\n\u001b[0;32m    473\u001b[0m         round_trip\u001b[38;5;241m=\u001b[39mround_trip,\n\u001b[0;32m    474\u001b[0m         warnings\u001b[38;5;241m=\u001b[39mwarnings,\n\u001b[0;32m    475\u001b[0m         fallback\u001b[38;5;241m=\u001b[39mfallback,\n\u001b[0;32m    476\u001b[0m         serialize_as_any\u001b[38;5;241m=\u001b[39mserialize_as_any,\n\u001b[0;32m    477\u001b[0m     )\n",
      "\u001b[1;31mPydanticSerializationError\u001b[0m: Error calling function `serialize_model`: ValueError: File Data/Image/britain_population.jpeg does not exist"
     ]
    }
   ],
   "source": [
    "response = explain(file1)\n",
    "response"
   ]
  },
  {
   "cell_type": "code",
   "execution_count": 129,
   "id": "d1df4806",
   "metadata": {},
   "outputs": [
    {
     "data": {
      "text/markdown": [
       " The image provided shows the population of the British Isles for two years, 1821 and 2019, with the United Kingdom divided into four main countries: Scotland, Ireland (which includes Northern Ireland), England, and Wales. For clarity, I will transcribe the data as follows:\n",
       "\n",
       "| Year   | Population |\n",
       "|-----------|--------------|\n",
       "| 1821       | Scotland: 325,000<br>Ireland (NI & ROI): 4,607,000<br>England: 8,695,000<br>Wales: 1,909,000<br>Total: 13,202,000 |\n",
       "| 2019       | Scotland: 5,496,000<br>Ireland (NI & ROI): 4,883,000<br>England: 57,016,000<br>Wales: 3,087,000<br>Total: 69,986,000 |\n",
       "\n",
       "Please note that the population figures for Ireland (NI & ROI) include Northern Ireland and the Republic of Ireland. "
      ],
      "text/plain": [
       "<IPython.core.display.Markdown object>"
      ]
     },
     "metadata": {},
     "output_type": "display_data"
    }
   ],
   "source": [
    "display(Markdown(response))"
   ]
  }
 ],
 "metadata": {
  "kernelspec": {
   "display_name": "base",
   "language": "python",
   "name": "python3"
  },
  "language_info": {
   "codemirror_mode": {
    "name": "ipython",
    "version": 3
   },
   "file_extension": ".py",
   "mimetype": "text/x-python",
   "name": "python",
   "nbconvert_exporter": "python",
   "pygments_lexer": "ipython3",
   "version": "3.12.7"
  }
 },
 "nbformat": 4,
 "nbformat_minor": 5
}
