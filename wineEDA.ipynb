{
 "cells": [
  {
   "cell_type": "code",
   "execution_count": null,
   "id": "3cd13cca",
   "metadata": {},
   "outputs": [],
   "source": [
    "import pandas as pd \n",
    "import numpy as np\n",
    "\n"
   ]
  },
  {
   "cell_type": "code",
   "execution_count": null,
   "id": "e7cdef68",
   "metadata": {},
   "outputs": [],
   "source": [
    "red_dataset = pd.read_excel('Data/winequality-red.xlsx')\n",
    "red_dataframe = pd.read_excel('Data/winequality-red.xlsx', header=1)\n",
    "red_dataframe\n"
   ]
  },
  {
   "cell_type": "code",
   "execution_count": null,
   "id": "2ce9833a",
   "metadata": {},
   "outputs": [],
   "source": [
    "white_dataset = pd.read_excel('Data/winequality-white.xlsx')\n",
    "white_dataframe = pd.read_excel('Data/winequality-white.xlsx', header=1)\n",
    "white_dataframe"
   ]
  }
 ],
 "metadata": {
  "kernelspec": {
   "display_name": "base",
   "language": "python",
   "name": "python3"
  },
  "language_info": {
   "codemirror_mode": {
    "name": "ipython",
    "version": 3
   },
   "file_extension": ".py",
   "mimetype": "text/x-python",
   "name": "python",
   "nbconvert_exporter": "python",
   "pygments_lexer": "ipython3",
   "version": "3.12.7"
  }
 },
 "nbformat": 4,
 "nbformat_minor": 5
}
